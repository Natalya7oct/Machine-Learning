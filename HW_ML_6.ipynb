{
 "cells": [
  {
   "cell_type": "code",
   "execution_count": 366,
   "metadata": {},
   "outputs": [],
   "source": [
    "import numpy as np\n",
    "import pandas as pd\n",
    "from sklearn import datasets\n",
    "from sklearn.model_selection import train_test_split\n",
    "from sklearn.metrics import accuracy_score\n",
    "import matplotlib.pyplot as plt\n",
    "from sklearn.metrics import mean_squared_error, mean_absolute_error\n",
    "%matplotlib inline"
   ]
  },
  {
   "cell_type": "markdown",
   "metadata": {},
   "source": [
    "\n",
    "\n",
    "    Прочитать про методы оптимизации для нейронных сетей https://habr.com/post/318970/\n",
    "\n",
    "    Реализовать самостоятельно логистическую регрессию\n",
    "        Обучить ее методом градиентного спуска\n",
    "        Методом nesterov momentum\n",
    "        Методом rmsprop\n",
    "\n",
    "    В качестве dataset’а взять Iris, оставив 2 класса:\n",
    "        Iris Versicolor\n",
    "        Iris Virginica\n",
    "\n"
   ]
  },
  {
   "cell_type": "code",
   "execution_count": 7,
   "metadata": {},
   "outputs": [
    {
     "name": "stdout",
     "output_type": "stream",
     "text": [
      "['sepal length (cm)', 'sepal width (cm)', 'petal length (cm)', 'petal width (cm)']\n",
      "[[5.1 3.5 1.4 0.2]\n",
      " [4.9 3.  1.4 0.2]\n",
      " [4.7 3.2 1.3 0.2]\n",
      " [4.6 3.1 1.5 0.2]\n",
      " [5.  3.6 1.4 0.2]\n",
      " [5.4 3.9 1.7 0.4]\n",
      " [4.6 3.4 1.4 0.3]\n",
      " [5.  3.4 1.5 0.2]\n",
      " [4.4 2.9 1.4 0.2]\n",
      " [4.9 3.1 1.5 0.1]]\n",
      "['setosa' 'versicolor' 'virginica']\n",
      "[0 0 0 0 0 0 0 0 0 0 0 0 0 0 0 0 0 0 0 0 0 0 0 0 0 0 0 0 0 0 0 0 0 0 0 0 0\n",
      " 0 0 0 0 0 0 0 0 0 0 0 0 0 1 1 1 1 1 1 1 1 1 1 1 1 1 1 1 1 1 1 1 1 1 1 1 1\n",
      " 1 1 1 1 1 1 1 1 1 1 1 1 1 1 1 1 1 1 1 1 1 1 1 1 1 1 2 2 2 2 2 2 2 2 2 2 2\n",
      " 2 2 2 2 2 2 2 2 2 2 2 2 2 2 2 2 2 2 2 2 2 2 2 2 2 2 2 2 2 2 2 2 2 2 2 2 2\n",
      " 2 2]\n"
     ]
    }
   ],
   "source": [
    "# Загружаем набор данных Ирисы:\n",
    "iris = datasets.load_iris()\n",
    "# Смотрим на названия переменных\n",
    "print(iris.feature_names)\n",
    "# Смотрим на данные, выводим 10 первых строк: \n",
    "print(iris.data[:10])\n",
    "# Смотрим на целевую переменную:\n",
    "print (iris.target_names)\n",
    "print (iris.target)"
   ]
  },
  {
   "cell_type": "code",
   "execution_count": 16,
   "metadata": {},
   "outputs": [
    {
     "data": {
      "text/html": [
       "<div>\n",
       "<style scoped>\n",
       "    .dataframe tbody tr th:only-of-type {\n",
       "        vertical-align: middle;\n",
       "    }\n",
       "\n",
       "    .dataframe tbody tr th {\n",
       "        vertical-align: top;\n",
       "    }\n",
       "\n",
       "    .dataframe thead th {\n",
       "        text-align: right;\n",
       "    }\n",
       "</style>\n",
       "<table border=\"1\" class=\"dataframe\">\n",
       "  <thead>\n",
       "    <tr style=\"text-align: right;\">\n",
       "      <th></th>\n",
       "      <th>sepal length (cm)</th>\n",
       "      <th>sepal width (cm)</th>\n",
       "      <th>petal length (cm)</th>\n",
       "      <th>petal width (cm)</th>\n",
       "      <th>target</th>\n",
       "      <th>name</th>\n",
       "    </tr>\n",
       "  </thead>\n",
       "  <tbody>\n",
       "    <tr>\n",
       "      <th>0</th>\n",
       "      <td>5.1</td>\n",
       "      <td>3.5</td>\n",
       "      <td>1.4</td>\n",
       "      <td>0.2</td>\n",
       "      <td>0</td>\n",
       "      <td>setosa</td>\n",
       "    </tr>\n",
       "    <tr>\n",
       "      <th>1</th>\n",
       "      <td>4.9</td>\n",
       "      <td>3.0</td>\n",
       "      <td>1.4</td>\n",
       "      <td>0.2</td>\n",
       "      <td>0</td>\n",
       "      <td>setosa</td>\n",
       "    </tr>\n",
       "    <tr>\n",
       "      <th>2</th>\n",
       "      <td>4.7</td>\n",
       "      <td>3.2</td>\n",
       "      <td>1.3</td>\n",
       "      <td>0.2</td>\n",
       "      <td>0</td>\n",
       "      <td>setosa</td>\n",
       "    </tr>\n",
       "    <tr>\n",
       "      <th>3</th>\n",
       "      <td>4.6</td>\n",
       "      <td>3.1</td>\n",
       "      <td>1.5</td>\n",
       "      <td>0.2</td>\n",
       "      <td>0</td>\n",
       "      <td>setosa</td>\n",
       "    </tr>\n",
       "    <tr>\n",
       "      <th>4</th>\n",
       "      <td>5.0</td>\n",
       "      <td>3.6</td>\n",
       "      <td>1.4</td>\n",
       "      <td>0.2</td>\n",
       "      <td>0</td>\n",
       "      <td>setosa</td>\n",
       "    </tr>\n",
       "  </tbody>\n",
       "</table>\n",
       "</div>"
      ],
      "text/plain": [
       "   sepal length (cm)  sepal width (cm)  petal length (cm)  petal width (cm)  \\\n",
       "0                5.1               3.5                1.4               0.2   \n",
       "1                4.9               3.0                1.4               0.2   \n",
       "2                4.7               3.2                1.3               0.2   \n",
       "3                4.6               3.1                1.5               0.2   \n",
       "4                5.0               3.6                1.4               0.2   \n",
       "\n",
       "   target    name  \n",
       "0       0  setosa  \n",
       "1       0  setosa  \n",
       "2       0  setosa  \n",
       "3       0  setosa  \n",
       "4       0  setosa  "
      ]
     },
     "execution_count": 16,
     "metadata": {},
     "output_type": "execute_result"
    }
   ],
   "source": [
    "iris_frame = pd.DataFrame(iris.data)\n",
    "# Делаем имена колонок такие же, как имена переменных:\n",
    "iris_frame.columns = iris.feature_names\n",
    "# Добавляем столбец с целевой переменной: \n",
    "iris_frame['target'] = iris.target\n",
    "# Для наглядности добавляем столбец с сортами: \n",
    "iris_frame['name'] = iris_frame.target.apply(lambda x : iris.target_names[x])\n",
    "# Смотрим, что получилось:\n",
    "iris_frame.head(5)"
   ]
  },
  {
   "cell_type": "code",
   "execution_count": 29,
   "metadata": {},
   "outputs": [],
   "source": [
    "data=iris_frame[iris_frame['target']==1].append(iris_frame[iris_frame['target']==2])"
   ]
  },
  {
   "cell_type": "code",
   "execution_count": 31,
   "metadata": {},
   "outputs": [
    {
     "data": {
      "text/html": [
       "<div>\n",
       "<style scoped>\n",
       "    .dataframe tbody tr th:only-of-type {\n",
       "        vertical-align: middle;\n",
       "    }\n",
       "\n",
       "    .dataframe tbody tr th {\n",
       "        vertical-align: top;\n",
       "    }\n",
       "\n",
       "    .dataframe thead th {\n",
       "        text-align: right;\n",
       "    }\n",
       "</style>\n",
       "<table border=\"1\" class=\"dataframe\">\n",
       "  <thead>\n",
       "    <tr style=\"text-align: right;\">\n",
       "      <th></th>\n",
       "      <th>sepal length (cm)</th>\n",
       "      <th>sepal width (cm)</th>\n",
       "      <th>petal length (cm)</th>\n",
       "      <th>petal width (cm)</th>\n",
       "      <th>target</th>\n",
       "      <th>name</th>\n",
       "    </tr>\n",
       "  </thead>\n",
       "  <tbody>\n",
       "    <tr>\n",
       "      <th>50</th>\n",
       "      <td>7.0</td>\n",
       "      <td>3.2</td>\n",
       "      <td>4.7</td>\n",
       "      <td>1.4</td>\n",
       "      <td>1</td>\n",
       "      <td>versicolor</td>\n",
       "    </tr>\n",
       "    <tr>\n",
       "      <th>51</th>\n",
       "      <td>6.4</td>\n",
       "      <td>3.2</td>\n",
       "      <td>4.5</td>\n",
       "      <td>1.5</td>\n",
       "      <td>1</td>\n",
       "      <td>versicolor</td>\n",
       "    </tr>\n",
       "    <tr>\n",
       "      <th>52</th>\n",
       "      <td>6.9</td>\n",
       "      <td>3.1</td>\n",
       "      <td>4.9</td>\n",
       "      <td>1.5</td>\n",
       "      <td>1</td>\n",
       "      <td>versicolor</td>\n",
       "    </tr>\n",
       "    <tr>\n",
       "      <th>53</th>\n",
       "      <td>5.5</td>\n",
       "      <td>2.3</td>\n",
       "      <td>4.0</td>\n",
       "      <td>1.3</td>\n",
       "      <td>1</td>\n",
       "      <td>versicolor</td>\n",
       "    </tr>\n",
       "    <tr>\n",
       "      <th>54</th>\n",
       "      <td>6.5</td>\n",
       "      <td>2.8</td>\n",
       "      <td>4.6</td>\n",
       "      <td>1.5</td>\n",
       "      <td>1</td>\n",
       "      <td>versicolor</td>\n",
       "    </tr>\n",
       "  </tbody>\n",
       "</table>\n",
       "</div>"
      ],
      "text/plain": [
       "    sepal length (cm)  sepal width (cm)  petal length (cm)  petal width (cm)  \\\n",
       "50                7.0               3.2                4.7               1.4   \n",
       "51                6.4               3.2                4.5               1.5   \n",
       "52                6.9               3.1                4.9               1.5   \n",
       "53                5.5               2.3                4.0               1.3   \n",
       "54                6.5               2.8                4.6               1.5   \n",
       "\n",
       "    target        name  \n",
       "50       1  versicolor  \n",
       "51       1  versicolor  \n",
       "52       1  versicolor  \n",
       "53       1  versicolor  \n",
       "54       1  versicolor  "
      ]
     },
     "execution_count": 31,
     "metadata": {},
     "output_type": "execute_result"
    }
   ],
   "source": [
    "data.head()"
   ]
  },
  {
   "cell_type": "markdown",
   "metadata": {},
   "source": [
    "Чтобы перейти к логистической регрессии, target=1 заменим на -1"
   ]
  },
  {
   "cell_type": "code",
   "execution_count": 84,
   "metadata": {},
   "outputs": [
    {
     "name": "stderr",
     "output_type": "stream",
     "text": [
      "/home/benito/anaconda3/lib/python3.7/site-packages/ipykernel_launcher.py:1: SettingWithCopyWarning: \n",
      "A value is trying to be set on a copy of a slice from a DataFrame\n",
      "\n",
      "See the caveats in the documentation: http://pandas.pydata.org/pandas-docs/stable/indexing.html#indexing-view-versus-copy\n",
      "  \"\"\"Entry point for launching an IPython kernel.\n"
     ]
    }
   ],
   "source": [
    "data['target'][data['target']==2]=-1"
   ]
  },
  {
   "cell_type": "markdown",
   "metadata": {},
   "source": [
    "Разделим выборку на X и y"
   ]
  },
  {
   "cell_type": "code",
   "execution_count": 96,
   "metadata": {},
   "outputs": [],
   "source": [
    "X=data[['sepal length (cm)','sepal width (cm)','petal length (cm)','petal width (cm)']]"
   ]
  },
  {
   "cell_type": "code",
   "execution_count": 97,
   "metadata": {},
   "outputs": [],
   "source": [
    "y=data[['target']]"
   ]
  },
  {
   "cell_type": "code",
   "execution_count": 154,
   "metadata": {},
   "outputs": [],
   "source": [
    "def logistic_regression(x, b): # функция логистической регрессии\n",
    "    x_new = np.array([0])\n",
    "    x_new=np.concatenate((x_new, x))\n",
    "    z=np.dot(x_new,b)\n",
    "    y=np.exp(z)/(1+np.exp(z))\n",
    "    if y<=0.5:\n",
    "        return(-1)\n",
    "    else:\n",
    "        return(1)"
   ]
  },
  {
   "cell_type": "code",
   "execution_count": 209,
   "metadata": {},
   "outputs": [],
   "source": [
    "def log_loss(X,y,b0,b1,b2,b3,b4): # логистическая функция потерь\n",
    "    b = np.array([b0,b1,b2,b3,b4])\n",
    "    log_loss=0\n",
    "    for i in range(len(X)):\n",
    "        x=np.array(X.iloc[i])\n",
    "        x_new = np.array([0])\n",
    "        x_new=np.concatenate((x_new, x))\n",
    "        z=np.dot(x_new,b)\n",
    "        log_loss=log_loss+np.log(1+np.exp(-y.iloc[i]*z))\n",
    "    return log_loss"
   ]
  },
  {
   "cell_type": "markdown",
   "metadata": {},
   "source": [
    "Необходимо минимизировать функцию log_loss"
   ]
  },
  {
   "cell_type": "markdown",
   "metadata": {},
   "source": [
    "### 1 пункт"
   ]
  },
  {
   "cell_type": "markdown",
   "metadata": {},
   "source": [
    "Метод градиентного спуска. Алгоритм:\n",
    "1. Задаем $\\gamma$ - \"learning rate\"\n",
    "2. Выбираем начальное приближение $x_0$\n",
    "3. for k = 0, 1, 2 ... do\n",
    "    1. $s_k$ = -$\\nabla f(x_k)$\n",
    "    2. $x_{k+1} = x_k + \\gamma s_k$"
   ]
  },
  {
   "cell_type": "code",
   "execution_count": 211,
   "metadata": {},
   "outputs": [],
   "source": [
    "def target_log_loss(b0,b1,b2,b3,b4): # функция для наших данных\n",
    "    return log_loss(X,y,b0,b1,b2,b3,b4)"
   ]
  },
  {
   "cell_type": "code",
   "execution_count": 239,
   "metadata": {},
   "outputs": [],
   "source": [
    "def grad(b0,b1,b2,b3,b4,delta): # функция для градиента\n",
    "    df0=(target_log_loss(b0+delta,b1,b2,b3,b4)-target_log_loss(b0-delta,b1,b2,b3,b4))/(2*delta)\n",
    "    df1=(target_log_loss(b0,b1+delta,b2,b3,b4)-target_log_loss(b0,b1-delta,b2,b3,b4))/(2*delta)\n",
    "    df2=(target_log_loss(b0,b1,b2+delta,b3,b4)-target_log_loss(b0,b1,b2-delta,b3,b4))/(2*delta)\n",
    "    df3=(target_log_loss(b0,b1,b2,b3+delta,b4)-target_log_loss(b0,b1,b2,b3-delta,b4))/(2*delta)\n",
    "    df4=(target_log_loss(b0,b1,b2,b3,b4+delta)-target_log_loss(b0,b1,b2,b3,b4-delta))/(2*delta)\n",
    "    return df0,df1,df2,df3,df4"
   ]
  },
  {
   "cell_type": "code",
   "execution_count": 277,
   "metadata": {},
   "outputs": [],
   "source": [
    "def grad_desc(b0,b1,b2,b3,b4,delta,step,it): # функция для градиентного спуска\n",
    "    for i in range(it):\n",
    "        b0=b0-step*grad(b0,b1,b2,b3,b4,delta)[0]\n",
    "        b1=b1-step*grad(b0,b1,b2,b3,b4,delta)[1]\n",
    "        b2=b2-step*grad(b0,b1,b2,b3,b4,delta)[2]\n",
    "        b3=b3-step*grad(b0,b1,b2,b3,b4,delta)[3]\n",
    "        b4=b4-step*grad(b0,b1,b2,b3,b4,delta)[4]\n",
    "    return b0,b1,b2,b3,b4"
   ]
  },
  {
   "cell_type": "code",
   "execution_count": 369,
   "metadata": {},
   "outputs": [],
   "source": [
    "b0=1\n",
    "b1=1\n",
    "b2=1\n",
    "b3=1\n",
    "b4=1\n",
    "delta=1\n",
    "step=0.0008\n",
    "it=5\n",
    "b=grad_desc(b0,b1,b2,b3,b4,delta,step,it)"
   ]
  },
  {
   "cell_type": "code",
   "execution_count": 370,
   "metadata": {
    "scrolled": true
   },
   "outputs": [
    {
     "data": {
      "text/plain": [
       "target    109.799069\n",
       "dtype: float64"
      ]
     },
     "execution_count": 370,
     "metadata": {},
     "output_type": "execute_result"
    }
   ],
   "source": [
    "target_log_loss(b[0],b[1],b[2],b[3],b[4])"
   ]
  },
  {
   "cell_type": "markdown",
   "metadata": {},
   "source": [
    "### 2 пункт"
   ]
  },
  {
   "cell_type": "markdown",
   "metadata": {},
   "source": [
    "Метод nesterov momentum\n",
    "Алгоритм:\n",
    "- считаем старый градиент\n",
    "- считаем промежуточный градиент в точке старых весов - 0.9 старого градиента\n",
    "- новые веса будут равны старым весам - взвешанная сумма старого градиента и промежуточного"
   ]
  },
  {
   "cell_type": "code",
   "execution_count": 279,
   "metadata": {},
   "outputs": [],
   "source": [
    "def grad_desc_nm(b0,b1,b2,b3,b4,delta,step,it,gamma): # функция для градиентного спуска c моментом нестерова\n",
    "    grad_old=grad(b0,b1,b2,b3,b4,delta) # страый градиент\n",
    "    for i in range(it):\n",
    "        grad_curr=grad(b0,b1,b2,b3,b4,delta) # обновляем текущий градиент\n",
    "        b0_inter=b0-step*gamma*grad_old[0]\n",
    "        b1_inter=b1-step*gamma*grad_old[1]\n",
    "        b2_inter=b2-step*gamma*grad_old[2]\n",
    "        b3_inter=b3-step*gamma*grad_old[3]\n",
    "        b4_inter=b4-step*gamma*grad_old[4]\n",
    "        grad_inter=grad(b0_inter,b1_inter,b2_inter,b3_inter,b4_inter,delta) # обновляем промежутчный градиент\n",
    "        b0=b0-step*((1-gamma)*grad_inter[0]+gamma*grad_old[0]) # обновляем параметры\n",
    "        b1=b1-step*((1-gamma)*grad_inter[1]+gamma*grad_old[1]) # старые точки минус\n",
    "        b2=b2-step*((1-gamma)*grad_inter[2]+gamma*grad_old[2]) # шаг умноженные на взвешанную сумму\n",
    "        b3=b3-step*((1-gamma)*grad_inter[3]+gamma*grad_old[3]) # старого градиента и промежутночного\n",
    "        b4=b4-step*((1-gamma)*grad_inter[4]+gamma*grad_old[4])\n",
    "        old_curr=grad_curr # обновляем старый градиент\n",
    "    return b0,b1,b2,b3,b4"
   ]
  },
  {
   "cell_type": "code",
   "execution_count": 374,
   "metadata": {},
   "outputs": [],
   "source": [
    "b0=1\n",
    "b1=1\n",
    "b2=1\n",
    "b3=1\n",
    "b4=1\n",
    "delta=1\n",
    "step=0.0008\n",
    "it=5\n",
    "gamma=0.9\n",
    "b=grad_desc_nm(b0,b1,b2,b3,b4,delta,step,it,gamma)"
   ]
  },
  {
   "cell_type": "code",
   "execution_count": 376,
   "metadata": {},
   "outputs": [
    {
     "data": {
      "text/plain": [
       "target    75.600834\n",
       "dtype: float64"
      ]
     },
     "execution_count": 376,
     "metadata": {},
     "output_type": "execute_result"
    }
   ],
   "source": [
    "target_log_loss(b[0],b[1],b[2],b[3],b[4])"
   ]
  },
  {
   "cell_type": "markdown",
   "metadata": {},
   "source": [
    "### 3 пункт"
   ]
  },
  {
   "cell_type": "markdown",
   "metadata": {},
   "source": [
    "Методом rmsprop.\n",
    "Алгоритм:\n",
    " - считаем взвешанную сумму квадратов градиентов\n",
    " - к старым параметрам градиент с шагом step/корень из взвешанной суммы квадратов"
   ]
  },
  {
   "cell_type": "code",
   "execution_count": 392,
   "metadata": {},
   "outputs": [],
   "source": [
    "def grad_desc_rmspop(b0,b1,b2,b3,b4,delta,step,it,gamma): # функция для градиентного спуска rmspop\n",
    "    e_0=0\n",
    "    e_1=0\n",
    "    e_2=0\n",
    "    e_3=0\n",
    "    e_4=0\n",
    "    for i in range(it):\n",
    "        grad_curr=grad(b0,b1,b2,b3,b4,delta)\n",
    "        e_0=gamma*e_0+(1-gamma)*grad_curr[0]*grad_curr[0]\n",
    "        e_1=gamma*e_1+(1-gamma)*grad_curr[1]*grad_curr[1]\n",
    "        e_2=gamma*e_2+(1-gamma)*grad_curr[2]*grad_curr[2]\n",
    "        e_3=gamma*e_3+(1-gamma)*grad_curr[3]*grad_curr[3]\n",
    "        e_4=gamma*e_4+(1-gamma)*grad_curr[4]*grad_curr[4]\n",
    "        b0=b0-(step/np.sqrt(e_0+0.001))*grad_curr[0]\n",
    "        b1=b1-(step/np.sqrt(e_1+0.001))*grad_curr[1]\n",
    "        b2=b2-(step/np.sqrt(e_2+0.001))*grad_curr[2]\n",
    "        b3=b3-(step/np.sqrt(e_3+0.001))*grad_curr[3]\n",
    "        b4=b4-(step/np.sqrt(e_4+0.001))*grad_curr[4]\n",
    "    return b0,b1,b2,b3,b4"
   ]
  },
  {
   "cell_type": "code",
   "execution_count": 417,
   "metadata": {},
   "outputs": [],
   "source": [
    "b0=1\n",
    "b1=1\n",
    "b2=1\n",
    "b3=1\n",
    "b4=1\n",
    "delta=1\n",
    "step=1\n",
    "it=5\n",
    "gamma=0.9\n",
    "b=grad_desc_rmspop(b0,b1,b2,b3,b4,delta,step,it,gamma)"
   ]
  },
  {
   "cell_type": "code",
   "execution_count": 418,
   "metadata": {},
   "outputs": [
    {
     "data": {
      "text/plain": [
       "target    61.18735\n",
       "dtype: float64"
      ]
     },
     "execution_count": 418,
     "metadata": {},
     "output_type": "execute_result"
    }
   ],
   "source": [
    "target_log_loss(b[0],b[1],b[2],b[3],b[4])"
   ]
  },
  {
   "cell_type": "code",
   "execution_count": null,
   "metadata": {},
   "outputs": [],
   "source": []
  }
 ],
 "metadata": {
  "kernelspec": {
   "display_name": "Python 3",
   "language": "python",
   "name": "python3"
  },
  "language_info": {
   "codemirror_mode": {
    "name": "ipython",
    "version": 3
   },
   "file_extension": ".py",
   "mimetype": "text/x-python",
   "name": "python",
   "nbconvert_exporter": "python",
   "pygments_lexer": "ipython3",
   "version": "3.7.3"
  }
 },
 "nbformat": 4,
 "nbformat_minor": 2
}
